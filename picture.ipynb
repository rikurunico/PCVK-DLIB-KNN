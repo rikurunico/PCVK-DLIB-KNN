{
 "cells": [
  {
   "cell_type": "code",
   "execution_count": 3,
   "metadata": {},
   "outputs": [],
   "source": [
    "import cv2\n",
    "import dlib\n",
    "\n",
    "# load the face detector and shape predictor\n",
    "detector = dlib.get_frontal_face_detector()\n",
    "predictor = dlib.shape_predictor(\"shape_predictor_68_face_landmarks.dat\")"
   ]
  },
  {
   "cell_type": "code",
   "execution_count": 4,
   "metadata": {},
   "outputs": [
    {
     "name": "stdout",
     "output_type": "stream",
     "text": [
      "Mata kiri: (120, 134)\n",
      "Mata kanan: (482, 136)\n",
      "Alis kiri: (57, 65)\n",
      "Alis kanan: (538, 69)\n",
      "Mulut: (302, 346)\n"
     ]
    }
   ],
   "source": [
    "image = cv2.imread(\"images/cina.jpg\")\n",
    "# change image to camera\n",
    "# image = cv2.imread(0)\n",
    "image = cv2.resize(image, (600, 500))\n",
    "gray = cv2.cvtColor(image, cv2.COLOR_BGR2GRAY)\n",
    "\n",
    "# detect the faces\n",
    "rects = detector(gray)\n",
    "\n",
    "# go through the face bounding boxes\n",
    "for rect in rects:\n",
    "    # extract the coordinates of the bounding box\n",
    "    x1 = rect.left()\n",
    "    y1 = rect.top()\n",
    "    x2 = rect.right()\n",
    "    y2 = rect.bottom()\n",
    "\n",
    "    # cv2.rectangle(image, (x1, y1), (x2, y2), (0, 255, 0), 3)\n",
    "\n",
    "    # apply the shape predictor to the face ROI\n",
    "    shape = predictor(gray, rect)\n",
    "\n",
    "    # Pemilihan area mata, alis, dan mulut\n",
    "    left_eye_pts = shape.parts()[36:42]\n",
    "    right_eye_pts = shape.parts()[42:48]\n",
    "    left_eyebrow_pts = shape.parts()[17:22]\n",
    "    right_eyebrow_pts = shape.parts()[22:27]\n",
    "    mouth_pts = shape.parts()[48:68]\n",
    "\n",
    "    for n in range(0, 68):\n",
    "        x = shape.part(n).x\n",
    "        y = shape.part(n).y\n",
    "        cv2.circle(image, (x, y), 4, (255, 0, 0), -1)\n",
    "\n",
    "    # Extract koordinat titik sudut mata, alis, dan mulut x dan y\n",
    "    left_eye_x = left_eye_pts[0].x\n",
    "    left_eye_y = left_eye_pts[0].y\n",
    "\n",
    "    right_eye_x = right_eye_pts[3].x\n",
    "    right_eye_y = right_eye_pts[3].y\n",
    "\n",
    "    left_eyebrow_x = left_eyebrow_pts[0].x\n",
    "    left_eyebrow_y = left_eyebrow_pts[0].y\n",
    "\n",
    "    right_eyebrow_x = right_eyebrow_pts[4].x\n",
    "    right_eyebrow_y = right_eyebrow_pts[4].y\n",
    "\n",
    "    mouth_x = mouth_pts[3].x\n",
    "    mouth_y = mouth_pts[3].y\n",
    "\n",
    "    print(\"Mata kiri: ({}, {})\".format(left_eye_x, left_eye_y))\n",
    "    print(\"Mata kanan: ({}, {})\".format(right_eye_x, right_eye_y))\n",
    "    print(\"Alis kiri: ({}, {})\".format(left_eyebrow_x, left_eyebrow_y))\n",
    "    print(\"Alis kanan: ({}, {})\".format(right_eyebrow_x, right_eyebrow_y))\n",
    "    print(\"Mulut: ({}, {})\".format(mouth_x, mouth_y))\n",
    "        \n",
    "cv2.imshow(\"Image\", image)\n",
    "cv2.waitKey(0)"
   ]
  }
 ],
 "metadata": {
  "kernelspec": {
   "display_name": "Python 3",
   "language": "python",
   "name": "python3"
  },
  "language_info": {
   "codemirror_mode": {
    "name": "ipython",
    "version": 3
   },
   "file_extension": ".py",
   "mimetype": "text/x-python",
   "name": "python",
   "nbconvert_exporter": "python",
   "pygments_lexer": "ipython3",
   "version": "3.11.6"
  }
 },
 "nbformat": 4,
 "nbformat_minor": 2
}
